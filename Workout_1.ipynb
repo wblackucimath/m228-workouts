{
 "cells": [
  {
   "cell_type": "markdown",
   "id": "4b2efab8-2c67-4ba3-8bd8-f2c1222f6cf1",
   "metadata": {},
   "source": [
    "# Workout 1\n",
    "\n",
    "William Black\n",
    "\n",
    "## To Run\n",
    "\n",
    "Suppose the project directory is ~/my/proj/.\n",
    "\n",
    "1. Type conda ```env create -f ~/my/proj/environment.yml``` into the terminal to create the Conda environment for these worksheets.\n",
    "\n",
    "1. Type ```conda env activate m228-workouts``` into terminal to activate the Conda environment from the previous step.\n",
    "\n",
    "1. Enter ```conda develop ~/my/proj/``` into terminal. This will allow Conda to see your project by adding it to the Python Path.\n",
    "\n",
    "1. from IPython import display\n",
    "from importlib_resources import filesRestart the current Python kernel and reopen this Jupyter Notebook with the virtual environment from step 2 activated."
   ]
  },
  {
   "cell_type": "code",
   "execution_count": 2,
   "id": "5646d676-b2da-4001-a75f-839ee120cbcb",
   "metadata": {
    "tags": []
   },
   "outputs": [],
   "source": [
    "from IPython import display\n",
    "from importlib_resources import files\n",
    "from m228_workouts import workout_1"
   ]
  },
  {
   "cell_type": "markdown",
   "id": "45c87db8-b259-4833-89ab-0d4125ea1135",
   "metadata": {
    "tags": []
   },
   "source": [
    "## Problem 1"
   ]
  },
  {
   "cell_type": "markdown",
   "id": "f7fc7dd6-5586-4203-9bbd-407630e6a634",
   "metadata": {
    "tags": []
   },
   "source": [
    "## Problem 2"
   ]
  },
  {
   "cell_type": "markdown",
   "id": "b6b29210-5bd9-49e5-a192-8a8225f91f84",
   "metadata": {
    "tags": []
   },
   "source": [
    "## Problem 3\n",
    "\n",
    "Below is the marginal distribution for the SPX closing price data for the most recent 2 years. Also plotted are a Gaussian kernel density estimate as well as a normal Gaussian function with empirical mean and variance coming from the data. The code used to download and plot is also included."
   ]
  },
  {
   "cell_type": "code",
   "execution_count": null,
   "id": "fb1e0da6-ff4c-449e-b9c9-a73ff20ee55c",
   "metadata": {
    "tags": []
   },
   "outputs": [],
   "source": [
    "workout_1.solution_3(period='2y')\n",
    "display.Image(files(\"m228_workouts.plots\").joinpath(\"SPX_Histogram.png\"))"
   ]
  },
  {
   "cell_type": "code",
   "execution_count": null,
   "id": "4e63708d-aaf4-47ce-8062-421298e0ebca",
   "metadata": {
    "tags": []
   },
   "outputs": [],
   "source": [
    "display.Code(files(\"m228_workouts.psets\").joinpath(\"problem_3.py\"))"
   ]
  },
  {
   "cell_type": "markdown",
   "id": "c73aff24-09d8-42d6-b871-a38188ad965a",
   "metadata": {
    "tags": []
   },
   "source": [
    "## Problem 4"
   ]
  },
  {
   "cell_type": "code",
   "execution_count": null,
   "id": "54e748ed-fea3-4601-abd7-29a178b4faeb",
   "metadata": {},
   "outputs": [],
   "source": [
    "workout_1.solution_4(N_sim=5*10**4, N_sum=10**10)\n",
    "display.Image(files(\"m228_workouts.plots\").joinpath(\"CLT.png\"))"
   ]
  },
  {
   "cell_type": "code",
   "execution_count": null,
   "id": "590bb8ec-974c-4579-888f-33e2e071be72",
   "metadata": {
    "tags": []
   },
   "outputs": [],
   "source": [
    "display.Code(files(\"m228_workouts.psets\").joinpath(\"problem_4.py\"))"
   ]
  },
  {
   "cell_type": "markdown",
   "id": "1200dc1d-bce2-4f41-a21c-0520107d0592",
   "metadata": {
    "tags": []
   },
   "source": [
    "## Problem 5"
   ]
  },
  {
   "cell_type": "code",
   "execution_count": null,
   "id": "c2fe8087-a1a8-4181-99d1-8018de50f41e",
   "metadata": {},
   "outputs": [],
   "source": []
  }
 ],
 "metadata": {
  "kernelspec": {
   "display_name": "Python 3 (ipykernel)",
   "language": "python",
   "name": "python3"
  },
  "language_info": {
   "codemirror_mode": {
    "name": "ipython",
    "version": 3
   },
   "file_extension": ".py",
   "mimetype": "text/x-python",
   "name": "python",
   "nbconvert_exporter": "python",
   "pygments_lexer": "ipython3",
   "version": "3.10.9"
  }
 },
 "nbformat": 4,
 "nbformat_minor": 5
}
